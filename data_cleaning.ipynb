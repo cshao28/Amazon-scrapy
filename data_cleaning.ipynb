{
 "cells": [
  {
   "cell_type": "code",
   "execution_count": 45,
   "metadata": {},
   "outputs": [],
   "source": [
    "import pandas as pd\n",
    "import os\n",
    "\n"
   ]
  },
  {
   "cell_type": "code",
   "execution_count": 46,
   "metadata": {},
   "outputs": [
    {
     "name": "stdout",
     "output_type": "stream",
     "text": [
      "/Users/shaochuyan/Desktop/amazon scrapying project\n"
     ]
    }
   ],
   "source": [
    "\n",
    "print(os.getcwd())\n",
    "\n"
   ]
  },
  {
   "cell_type": "code",
   "execution_count": 47,
   "metadata": {},
   "outputs": [],
   "source": [
    "df = pd.read_csv(\"amazon_scrapy_results.csv\")"
   ]
  },
  {
   "cell_type": "code",
   "execution_count": 48,
   "metadata": {},
   "outputs": [
    {
     "data": {
      "text/plain": [
       "(560, 14)"
      ]
     },
     "execution_count": 48,
     "metadata": {},
     "output_type": "execute_result"
    }
   ],
   "source": [
    "df.shape\n"
   ]
  },
  {
   "cell_type": "code",
   "execution_count": 49,
   "metadata": {},
   "outputs": [
    {
     "name": "stdout",
     "output_type": "stream",
     "text": [
      "<class 'pandas.core.frame.DataFrame'>\n",
      "RangeIndex: 560 entries, 0 to 559\n",
      "Data columns (total 14 columns):\n",
      " #   Column                          Non-Null Count  Dtype  \n",
      "---  ------                          --------------  -----  \n",
      " 0   Product Url                     560 non-null    object \n",
      " 1   Product Name                    559 non-null    object \n",
      " 2   Brand                           553 non-null    object \n",
      " 3   Product ID                      559 non-null    object \n",
      " 4   Price                           549 non-null    float64\n",
      " 5   Rating                          559 non-null    float64\n",
      " 6   Number of Reviews               559 non-null    float64\n",
      " 7   Parent Category                 465 non-null    object \n",
      " 8   Sub Category                    465 non-null    object \n",
      " 9   Sales Rank(in parent category)  465 non-null    float64\n",
      " 10  Sales Rank(in sub category)     465 non-null    float64\n",
      " 11  Release Date                    302 non-null    object \n",
      " 12  Country of Origin               0 non-null      float64\n",
      " 13  Purchased in Last Month         282 non-null    float64\n",
      "dtypes: float64(7), object(7)\n",
      "memory usage: 61.4+ KB\n"
     ]
    }
   ],
   "source": [
    "df.info()\n"
   ]
  },
  {
   "cell_type": "code",
   "execution_count": 50,
   "metadata": {},
   "outputs": [
    {
     "data": {
      "text/plain": [
       "Product Url                         0\n",
       "Product Name                        1\n",
       "Brand                               7\n",
       "Product ID                          1\n",
       "Price                              11\n",
       "Rating                              1\n",
       "Number of Reviews                   1\n",
       "Parent Category                    95\n",
       "Sub Category                       95\n",
       "Sales Rank(in parent category)     95\n",
       "Sales Rank(in sub category)        95\n",
       "Release Date                      258\n",
       "Country of Origin                 560\n",
       "Purchased in Last Month           278\n",
       "dtype: int64"
      ]
     },
     "execution_count": 50,
     "metadata": {},
     "output_type": "execute_result"
    }
   ],
   "source": [
    "df.isnull().sum()"
   ]
  },
  {
   "cell_type": "code",
   "execution_count": 51,
   "metadata": {},
   "outputs": [],
   "source": [
    "df = df.dropna(subset=['Product ID'])\n"
   ]
  },
  {
   "cell_type": "code",
   "execution_count": 52,
   "metadata": {},
   "outputs": [
    {
     "name": "stdout",
     "output_type": "stream",
     "text": [
      "<class 'pandas.core.frame.DataFrame'>\n",
      "Index: 559 entries, 1 to 559\n",
      "Data columns (total 14 columns):\n",
      " #   Column                          Non-Null Count  Dtype  \n",
      "---  ------                          --------------  -----  \n",
      " 0   Product Url                     559 non-null    object \n",
      " 1   Product Name                    559 non-null    object \n",
      " 2   Brand                           553 non-null    object \n",
      " 3   Product ID                      559 non-null    object \n",
      " 4   Price                           548 non-null    float64\n",
      " 5   Rating                          559 non-null    float64\n",
      " 6   Number of Reviews               559 non-null    float64\n",
      " 7   Parent Category                 465 non-null    object \n",
      " 8   Sub Category                    465 non-null    object \n",
      " 9   Sales Rank(in parent category)  465 non-null    float64\n",
      " 10  Sales Rank(in sub category)     465 non-null    float64\n",
      " 11  Release Date                    302 non-null    object \n",
      " 12  Country of Origin               0 non-null      float64\n",
      " 13  Purchased in Last Month         282 non-null    float64\n",
      "dtypes: float64(7), object(7)\n",
      "memory usage: 65.5+ KB\n"
     ]
    }
   ],
   "source": [
    "df.info()\n"
   ]
  },
  {
   "cell_type": "code",
   "execution_count": 53,
   "metadata": {},
   "outputs": [
    {
     "data": {
      "text/plain": [
       "0    24.0\n",
       "1    63.0\n",
       "2    65.0\n",
       "Name: Sales Rank(in parent category), dtype: float64"
      ]
     },
     "execution_count": 53,
     "metadata": {},
     "output_type": "execute_result"
    }
   ],
   "source": [
    "df['Sales Rank(in parent category)'].mode()\n"
   ]
  },
  {
   "cell_type": "code",
   "execution_count": 54,
   "metadata": {},
   "outputs": [
    {
     "data": {
      "text/plain": [
       "0    1.0\n",
       "Name: Sales Rank(in sub category), dtype: float64"
      ]
     },
     "execution_count": 54,
     "metadata": {},
     "output_type": "execute_result"
    }
   ],
   "source": [
    "df['Sales Rank(in sub category)'].mode()"
   ]
  },
  {
   "cell_type": "code",
   "execution_count": 55,
   "metadata": {},
   "outputs": [
    {
     "name": "stdout",
     "output_type": "stream",
     "text": [
      "51.0\n",
      "1.0\n"
     ]
    }
   ],
   "source": [
    "print(df['Sales Rank(in parent category)'].median())\n",
    "print(df['Sales Rank(in sub category)'].median())"
   ]
  },
  {
   "cell_type": "code",
   "execution_count": 56,
   "metadata": {},
   "outputs": [],
   "source": [
    "df['Sales Rank(in parent category)'] = df['Sales Rank(in parent category)'].fillna(df['Sales Rank(in parent category)'].median())\n",
    "df['Sales Rank(in sub category)'] = df['Sales Rank(in sub category)'].fillna(df['Sales Rank(in sub category)'].median())\n",
    "df['Purchased in Last Month'] = df.groupby('Parent Category')['Purchased in Last Month'].transform(lambda x: x.fillna(x.mean()))\n",
    "\n",
    "\n",
    "df['Price'] = df.groupby('Parent Category')['Price'].transform(lambda x: x.fillna(x.mean()))"
   ]
  },
  {
   "cell_type": "code",
   "execution_count": 57,
   "metadata": {},
   "outputs": [
    {
     "name": "stderr",
     "output_type": "stream",
     "text": [
      "/var/folders/_7/rrwl9ccj0xn3phl9qn7f5npw0000gn/T/ipykernel_2360/3969675166.py:2: FutureWarning: Series.fillna with 'method' is deprecated and will raise in a future version. Use obj.ffill() or obj.bfill() instead.\n",
      "  df['Release Date'] = df['Release Date'].fillna(method='ffill')\n"
     ]
    }
   ],
   "source": [
    "df['Release Date'] = pd.to_datetime(df['Release Date'], errors='coerce')\n",
    "df['Release Date'] = df['Release Date'].fillna(method='ffill')\n"
   ]
  },
  {
   "cell_type": "code",
   "execution_count": 58,
   "metadata": {},
   "outputs": [],
   "source": [
    "df['Parent Category'] = df['Parent Category'].fillna('Unknown')\n",
    "df['Sub Category'] = df['Sub Category'].fillna('Unknown')\n",
    "df['Brand'] = df['Brand'].fillna('Unknown')\n",
    "\n",
    "df = df.drop(columns=['Country of Origin'])\n",
    "\n",
    "\n",
    "\n"
   ]
  },
  {
   "cell_type": "code",
   "execution_count": 59,
   "metadata": {},
   "outputs": [
    {
     "name": "stdout",
     "output_type": "stream",
     "text": [
      "<class 'pandas.core.frame.DataFrame'>\n",
      "Index: 559 entries, 1 to 559\n",
      "Data columns (total 13 columns):\n",
      " #   Column                          Non-Null Count  Dtype         \n",
      "---  ------                          --------------  -----         \n",
      " 0   Product Url                     559 non-null    object        \n",
      " 1   Product Name                    559 non-null    object        \n",
      " 2   Brand                           559 non-null    object        \n",
      " 3   Product ID                      559 non-null    object        \n",
      " 4   Price                           465 non-null    float64       \n",
      " 5   Rating                          559 non-null    float64       \n",
      " 6   Number of Reviews               559 non-null    float64       \n",
      " 7   Parent Category                 559 non-null    object        \n",
      " 8   Sub Category                    559 non-null    object        \n",
      " 9   Sales Rank(in parent category)  559 non-null    float64       \n",
      " 10  Sales Rank(in sub category)     559 non-null    float64       \n",
      " 11  Release Date                    537 non-null    datetime64[ns]\n",
      " 12  Purchased in Last Month         358 non-null    float64       \n",
      "dtypes: datetime64[ns](1), float64(6), object(6)\n",
      "memory usage: 61.1+ KB\n"
     ]
    }
   ],
   "source": [
    "df.info()"
   ]
  },
  {
   "cell_type": "code",
   "execution_count": 60,
   "metadata": {},
   "outputs": [
    {
     "data": {
      "text/plain": [
       "Product Url                         0\n",
       "Product Name                        0\n",
       "Brand                               0\n",
       "Product ID                          0\n",
       "Price                              94\n",
       "Rating                              0\n",
       "Number of Reviews                   0\n",
       "Parent Category                     0\n",
       "Sub Category                        0\n",
       "Sales Rank(in parent category)      0\n",
       "Sales Rank(in sub category)         0\n",
       "Release Date                       22\n",
       "Purchased in Last Month           201\n",
       "dtype: int64"
      ]
     },
     "execution_count": 60,
     "metadata": {},
     "output_type": "execute_result"
    }
   ],
   "source": [
    "df.isnull().sum()"
   ]
  },
  {
   "cell_type": "code",
   "execution_count": 61,
   "metadata": {},
   "outputs": [
    {
     "data": {
      "text/plain": [
       "Product Url                       559\n",
       "Product Name                      559\n",
       "Brand                             362\n",
       "Product ID                        559\n",
       "Price                             282\n",
       "Rating                             13\n",
       "Number of Reviews                 554\n",
       "Parent Category                     9\n",
       "Sub Category                      282\n",
       "Sales Rank(in parent category)    102\n",
       "Sales Rank(in sub category)        15\n",
       "Release Date                      283\n",
       "Purchased in Last Month            32\n",
       "dtype: int64"
      ]
     },
     "execution_count": 61,
     "metadata": {},
     "output_type": "execute_result"
    }
   ],
   "source": [
    "df.nunique()"
   ]
  },
  {
   "cell_type": "code",
   "execution_count": 62,
   "metadata": {},
   "outputs": [
    {
     "data": {
      "text/plain": [
       "(559, 13)"
      ]
     },
     "execution_count": 62,
     "metadata": {},
     "output_type": "execute_result"
    }
   ],
   "source": [
    "df.shape"
   ]
  },
  {
   "cell_type": "code",
   "execution_count": 63,
   "metadata": {},
   "outputs": [],
   "source": [
    "df.drop_duplicates(inplace=True)"
   ]
  },
  {
   "cell_type": "code",
   "execution_count": 64,
   "metadata": {},
   "outputs": [
    {
     "data": {
      "text/plain": [
       "(559, 13)"
      ]
     },
     "execution_count": 64,
     "metadata": {},
     "output_type": "execute_result"
    }
   ],
   "source": [
    "df.shape"
   ]
  },
  {
   "cell_type": "code",
   "execution_count": 65,
   "metadata": {},
   "outputs": [],
   "source": [
    "df.to_csv(\"cleaned_data.csv\",index=False)"
   ]
  }
 ],
 "metadata": {
  "kernelspec": {
   "display_name": "Python 3",
   "language": "python",
   "name": "python3"
  },
  "language_info": {
   "codemirror_mode": {
    "name": "ipython",
    "version": 3
   },
   "file_extension": ".py",
   "mimetype": "text/x-python",
   "name": "python",
   "nbconvert_exporter": "python",
   "pygments_lexer": "ipython3",
   "version": "3.11.2"
  }
 },
 "nbformat": 4,
 "nbformat_minor": 2
}
